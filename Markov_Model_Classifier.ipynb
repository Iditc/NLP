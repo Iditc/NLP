{
  "nbformat": 4,
  "nbformat_minor": 0,
  "metadata": {
    "colab": {
      "provenance": [],
      "authorship_tag": "ABX9TyN7R/GJN/OE+xXOnBoTR0BX",
      "include_colab_link": true
    },
    "kernelspec": {
      "name": "python3",
      "display_name": "Python 3"
    },
    "language_info": {
      "name": "python"
    }
  },
  "cells": [
    {
      "cell_type": "markdown",
      "metadata": {
        "id": "view-in-github",
        "colab_type": "text"
      },
      "source": [
        "<a href=\"https://colab.research.google.com/github/Iditc/NLP/blob/main/Markov_Model_Classifier.ipynb\" target=\"_parent\"><img src=\"https://colab.research.google.com/assets/colab-badge.svg\" alt=\"Open In Colab\"/></a>"
      ]
    },
    {
      "cell_type": "code",
      "execution_count": 53,
      "metadata": {
        "id": "JcsNtpysEC7j",
        "outputId": "97c4cd6f-de84-4f66-c632-7d13c67387f9",
        "colab": {
          "base_uri": "https://localhost:8080/"
        }
      },
      "outputs": [
        {
          "output_type": "stream",
          "name": "stdout",
          "text": [
            "File ‘edgar_allan_poe.txt’ already there; not retrieving.\n",
            "\n",
            "File ‘robert_frost.txt’ already there; not retrieving.\n",
            "\n"
          ]
        }
      ],
      "source": [
        "!wget -nc https://raw.githubusercontent.com/lazyprogrammer/machine_learning_examples/master/hmm_class/edgar_allan_poe.txt\n",
        "!wget -nc https://raw.githubusercontent.com/lazyprogrammer/machine_learning_examples/master/hmm_class/robert_frost.txt"
      ]
    },
    {
      "cell_type": "code",
      "source": [
        "import numpy as np\n",
        "import matplotlib.pyplot as plt\n",
        "import string\n",
        "from sklearn.model_selection import train_test_split"
      ],
      "metadata": {
        "id": "MrYN1LBZEIKx"
      },
      "execution_count": 54,
      "outputs": []
    },
    {
      "cell_type": "code",
      "source": [
        "input_files = [\n",
        "    'edgar_allan_poe.txt',\n",
        "    'robert_frost.txt'\n",
        "]"
      ],
      "metadata": {
        "id": "fX8WHsdyIl9r"
      },
      "execution_count": 55,
      "outputs": []
    },
    {
      "cell_type": "code",
      "source": [
        "!head edgar_allan_poe.txt"
      ],
      "metadata": {
        "colab": {
          "base_uri": "https://localhost:8080/"
        },
        "id": "AO3mz8_kI-GT",
        "outputId": "ecdbd597-aaf0-4cfa-8950-300930709860"
      },
      "execution_count": 56,
      "outputs": [
        {
          "output_type": "stream",
          "name": "stdout",
          "text": [
            "LO! Death hath rear'd himself a throne\n",
            "In a strange city, all alone,\n",
            "Far down within the dim west\n",
            "Where the good, and the bad, and the worst, and the best,\n",
            "Have gone to their eternal rest.\n",
            " \n",
            "There shrines, and palaces, and towers\n",
            "Are not like any thing of ours\n",
            "Oh no! O no! ours never loom\n",
            "To heaven with that ungodly gloom!\n"
          ]
        }
      ]
    },
    {
      "cell_type": "code",
      "source": [
        "!head robert_frost.txt"
      ],
      "metadata": {
        "colab": {
          "base_uri": "https://localhost:8080/"
        },
        "id": "KxzpucQbJZ0U",
        "outputId": "90ecea22-2a92-443c-866d-e09d73db852a"
      },
      "execution_count": 57,
      "outputs": [
        {
          "output_type": "stream",
          "name": "stdout",
          "text": [
            "Two roads diverged in a yellow wood,\n",
            "And sorry I could not travel both\n",
            "And be one traveler, long I stood\n",
            "And looked down one as far as I could\n",
            "To where it bent in the undergrowth; \n",
            "\n",
            "Then took the other, as just as fair,\n",
            "And having perhaps the better claim\n",
            "Because it was grassy and wanted wear,\n",
            "Though as for that the passing there\n"
          ]
        }
      ]
    },
    {
      "cell_type": "code",
      "source": [
        "# collect data into lists\n",
        "input_texts = []\n",
        "labels = []\n",
        "\n",
        "for label, f in enumerate(input_files):\n",
        "  print(f\"{f} corresponds to label {label}\")\n",
        "\n",
        "  for line in open(f):\n",
        "    line = line.rstrip().lower()\n",
        "    if line:\n",
        "      line = line.translate(str.maketrans('', '', string.punctuation))\n",
        "\n",
        "      input_texts.append(line)\n",
        "      labels.append(label)"
      ],
      "metadata": {
        "colab": {
          "base_uri": "https://localhost:8080/"
        },
        "id": "C7Zg7EZRJtL7",
        "outputId": "2529fa2e-ed22-4e96-bd22-fbd2ba1b4c6b"
      },
      "execution_count": 58,
      "outputs": [
        {
          "output_type": "stream",
          "name": "stdout",
          "text": [
            "edgar_allan_poe.txt corresponds to label 0\n",
            "robert_frost.txt corresponds to label 1\n"
          ]
        }
      ]
    },
    {
      "cell_type": "code",
      "source": [
        "train_text, test_text, Ytrain, Ytest = train_test_split(input_texts, labels)"
      ],
      "metadata": {
        "id": "qU3Sl8DBNBbW"
      },
      "execution_count": 59,
      "outputs": []
    },
    {
      "cell_type": "code",
      "source": [
        "len(Ytrain), len(Ytest)"
      ],
      "metadata": {
        "colab": {
          "base_uri": "https://localhost:8080/"
        },
        "id": "OPAHsM3smvh8",
        "outputId": "1666f849-691d-4616-91cd-e2092207f8e5"
      },
      "execution_count": 60,
      "outputs": [
        {
          "output_type": "execute_result",
          "data": {
            "text/plain": [
              "(1615, 539)"
            ]
          },
          "metadata": {},
          "execution_count": 60
        }
      ]
    },
    {
      "cell_type": "code",
      "source": [
        "train_text[:5]"
      ],
      "metadata": {
        "colab": {
          "base_uri": "https://localhost:8080/"
        },
        "id": "ghy6lmCJnd7n",
        "outputId": "ed4f895c-366c-46df-ee7d-3188bf778b31"
      },
      "execution_count": 61,
      "outputs": [
        {
          "output_type": "execute_result",
          "data": {
            "text/plain": [
              "['and tell me whether',\n",
              " 'and laugh but smile no more',\n",
              " 'ill tell you whod remember heman lapish',\n",
              " 'wed kept all these years between ourselves',\n",
              " 'oh fly let us fly for we must']"
            ]
          },
          "metadata": {},
          "execution_count": 61
        }
      ]
    },
    {
      "cell_type": "code",
      "source": [
        "Ytrain[:5]"
      ],
      "metadata": {
        "colab": {
          "base_uri": "https://localhost:8080/"
        },
        "id": "P4VMf251nrGe",
        "outputId": "aedf0245-1274-43f3-b9ab-6a46db494ec6"
      },
      "execution_count": 62,
      "outputs": [
        {
          "output_type": "execute_result",
          "data": {
            "text/plain": [
              "[1, 0, 1, 1, 0]"
            ]
          },
          "metadata": {},
          "execution_count": 62
        }
      ]
    },
    {
      "cell_type": "code",
      "source": [
        "idx = 1\n",
        "word2idx = {'<unk>' : 0}"
      ],
      "metadata": {
        "id": "UnMFPR3vnxOa"
      },
      "execution_count": 63,
      "outputs": []
    },
    {
      "cell_type": "code",
      "source": [
        "# populate word2idx\n",
        "for text in train_text:\n",
        "  tokens = text.split()\n",
        "  for token in tokens:\n",
        "    if token not in word2idx:\n",
        "      word2idx[token] = idx\n",
        "      idx += 1"
      ],
      "metadata": {
        "id": "udodyIzBo3QS"
      },
      "execution_count": 64,
      "outputs": []
    },
    {
      "cell_type": "code",
      "source": [
        "word2idx"
      ],
      "metadata": {
        "id": "f0U9_Eq1qtBW",
        "colab": {
          "base_uri": "https://localhost:8080/"
        },
        "outputId": "36944e5a-0205-4209-c712-359ee49e3481"
      },
      "execution_count": 65,
      "outputs": [
        {
          "output_type": "execute_result",
          "data": {
            "text/plain": [
              "{'<unk>': 0,\n",
              " 'and': 1,\n",
              " 'tell': 2,\n",
              " 'me': 3,\n",
              " 'whether': 4,\n",
              " 'laugh': 5,\n",
              " 'but': 6,\n",
              " 'smile': 7,\n",
              " 'no': 8,\n",
              " 'more': 9,\n",
              " 'ill': 10,\n",
              " 'you': 11,\n",
              " 'whod': 12,\n",
              " 'remember': 13,\n",
              " 'heman': 14,\n",
              " 'lapish': 15,\n",
              " 'wed': 16,\n",
              " 'kept': 17,\n",
              " 'all': 18,\n",
              " 'these': 19,\n",
              " 'years': 20,\n",
              " 'between': 21,\n",
              " 'ourselves': 22,\n",
              " 'oh': 23,\n",
              " 'fly': 24,\n",
              " 'let': 25,\n",
              " 'us': 26,\n",
              " 'for': 27,\n",
              " 'we': 28,\n",
              " 'must': 29,\n",
              " 'it': 30,\n",
              " 'be': 31,\n",
              " 'right': 32,\n",
              " 'to': 33,\n",
              " 'leave': 34,\n",
              " 'him': 35,\n",
              " 'i': 36,\n",
              " 'cannot': 37,\n",
              " 'write': 38,\n",
              " 'speak': 39,\n",
              " 'or': 40,\n",
              " 'think': 41,\n",
              " 'spirits': 42,\n",
              " 'moving': 43,\n",
              " 'musically': 44,\n",
              " 'was': 45,\n",
              " 'night': 46,\n",
              " 'in': 47,\n",
              " 'the': 48,\n",
              " 'lonesome': 49,\n",
              " 'october': 50,\n",
              " 'god': 51,\n",
              " 'man': 52,\n",
              " 'beasts': 53,\n",
              " 'sake': 54,\n",
              " 'thought': 55,\n",
              " 'growing': 56,\n",
              " 'things': 57,\n",
              " 'would': 58,\n",
              " 'do': 59,\n",
              " 'good': 60,\n",
              " 'o': 61,\n",
              " 'care': 62,\n",
              " 'not': 63,\n",
              " 'that': 64,\n",
              " 'my': 65,\n",
              " 'earthly': 66,\n",
              " 'lot': 67,\n",
              " 'journeyed': 68,\n",
              " 'down': 69,\n",
              " 'here': 70,\n",
              " 'full': 71,\n",
              " 'of': 72,\n",
              " 'lank': 73,\n",
              " 'shivery': 74,\n",
              " 'halfdrowned': 75,\n",
              " 'birds': 76,\n",
              " 'embalmed': 77,\n",
              " 'their': 78,\n",
              " 'echoing': 79,\n",
              " 'songs': 80,\n",
              " 'only': 81,\n",
              " 'so': 82,\n",
              " 'an': 83,\n",
              " 'hour': 84,\n",
              " 'bluebells': 85,\n",
              " 'gracing': 86,\n",
              " 'a': 87,\n",
              " 'tunnel': 88,\n",
              " 'mouth': 89,\n",
              " 'suddenly': 90,\n",
              " 'without': 91,\n",
              " 'jerk': 92,\n",
              " 'twitch': 93,\n",
              " 'small': 94,\n",
              " 'skiff': 95,\n",
              " 'sends': 96,\n",
              " 'light': 97,\n",
              " 'rustle': 98,\n",
              " 'rushes': 99,\n",
              " 'leaves': 100,\n",
              " 'bulkhead': 101,\n",
              " 'doubledoors': 102,\n",
              " 'were': 103,\n",
              " 'doublelocked': 104,\n",
              " 'town': 105,\n",
              " 'is': 106,\n",
              " 'everybody': 107,\n",
              " 'took': 108,\n",
              " 'proof': 109,\n",
              " 'see': 110,\n",
              " 'if': 111,\n",
              " 'can': 112,\n",
              " 'reckon': 113,\n",
              " 'our': 114,\n",
              " 'cousinship': 115,\n",
              " 'too': 116,\n",
              " 'lofty': 117,\n",
              " 'original': 118,\n",
              " 'rage': 119,\n",
              " 'hell': 120,\n",
              " 'sort': 121,\n",
              " 'swear': 122,\n",
              " 'time': 123,\n",
              " 'away': 124,\n",
              " 'hes': 125,\n",
              " 'awful': 126,\n",
              " 'who': 127,\n",
              " 'has': 128,\n",
              " 'at': 129,\n",
              " 'heart': 130,\n",
              " 'your': 131,\n",
              " 'getting': 132,\n",
              " 'lost': 133,\n",
              " 'nearest': 134,\n",
              " 'resembles': 135,\n",
              " 'worship': 136,\n",
              " 'realms': 137,\n",
              " 'boreal': 138,\n",
              " 'pole': 139,\n",
              " 'bewitched': 140,\n",
              " 'last': 141,\n",
              " 'longer': 142,\n",
              " 'as': 143,\n",
              " 'scoriac': 144,\n",
              " 'rivers': 145,\n",
              " 'roll': 146,\n",
              " 'then': 147,\n",
              " 'its': 148,\n",
              " 'up': 149,\n",
              " 'get': 150,\n",
              " 'dragged': 151,\n",
              " 'by': 152,\n",
              " 'over': 153,\n",
              " 'everywhere': 154,\n",
              " 'answering': 155,\n",
              " 'knock': 156,\n",
              " 'put': 157,\n",
              " 'sign': 158,\n",
              " 'closed': 159,\n",
              " 'does': 160,\n",
              " 'rain': 161,\n",
              " 'seem': 162,\n",
              " 'cool': 163,\n",
              " 'eyes': 164,\n",
              " 'well': 165,\n",
              " 'know': 166,\n",
              " 'now': 167,\n",
              " 'this': 168,\n",
              " 'dank': 169,\n",
              " 'tarn': 170,\n",
              " 'auber': 171,\n",
              " 'italian': 172,\n",
              " 'tones': 173,\n",
              " 'made': 174,\n",
              " 'murmured': 175,\n",
              " 'ascending': 176,\n",
              " 'descend': 177,\n",
              " 'reascend': 178,\n",
              " 'wanted': 179,\n",
              " 'out': 180,\n",
              " 'flickers': 181,\n",
              " 'sky': 182,\n",
              " 'through': 183,\n",
              " 'wentworth': 184,\n",
              " 'from': 185,\n",
              " 'on': 186,\n",
              " 'when': 187,\n",
              " 'alls': 188,\n",
              " 'said': 189,\n",
              " 'how': 190,\n",
              " 'she': 191,\n",
              " 'tended': 192,\n",
              " 'both': 193,\n",
              " 'had': 194,\n",
              " 'them': 195,\n",
              " 'there': 196,\n",
              " 'fell': 197,\n",
              " 'silverysilken': 198,\n",
              " 'veil': 199,\n",
              " 'than': 200,\n",
              " 'folks': 201,\n",
              " 'like': 202,\n",
              " 'have': 203,\n",
              " 'any': 204,\n",
              " 'business': 205,\n",
              " 'with': 206,\n",
              " 'plan': 207,\n",
              " 'gaining': 208,\n",
              " 'wealth': 209,\n",
              " 'hens': 210,\n",
              " 'cows': 211,\n",
              " 'pigs': 212,\n",
              " 'are': 213,\n",
              " 'always': 214,\n",
              " 'better': 215,\n",
              " 'ready': 216,\n",
              " 'outsiders': 217,\n",
              " '2o3': 218,\n",
              " 'stay': 219,\n",
              " 'attic': 220,\n",
              " 'since': 221,\n",
              " 'they': 222,\n",
              " 'went': 223,\n",
              " 'nonsense': 224,\n",
              " 'whats': 225,\n",
              " 'done': 226,\n",
              " 'her': 227,\n",
              " 'greatness': 228,\n",
              " 'dont': 229,\n",
              " 'stint': 230,\n",
              " 'wont': 231,\n",
              " 'far': 232,\n",
              " 'before': 233,\n",
              " 'wheels': 234,\n",
              " 'hang': 235,\n",
              " 'smiled': 236,\n",
              " 'died': 237,\n",
              " 'parterre': 238,\n",
              " 'enchanted': 239,\n",
              " 'much': 240,\n",
              " 'concerned': 241,\n",
              " 'those': 242,\n",
              " 'whom': 243,\n",
              " 'wasnt': 244,\n",
              " 'hudsons': 245,\n",
              " 'bay': 246,\n",
              " 'astartes': 247,\n",
              " 'bediamonded': 248,\n",
              " 'crescent': 249,\n",
              " 'myself': 250,\n",
              " 'kitchen': 251,\n",
              " 'door': 252,\n",
              " 'bells': 253,\n",
              " 'doth': 254,\n",
              " 'oer': 255,\n",
              " 'pass': 256,\n",
              " 'th': 257,\n",
              " 'expanding': 258,\n",
              " 'eye': 259,\n",
              " 'nothing': 260,\n",
              " 'listen': 261,\n",
              " 'lean': 262,\n",
              " 'difference': 263,\n",
              " 'got': 264,\n",
              " 'wonted': 265,\n",
              " 'besides': 266,\n",
              " 'high': 267,\n",
              " 'tone': 268,\n",
              " 'spirit': 269,\n",
              " 'which': 270,\n",
              " 'hath': 271,\n",
              " 'striven': 272,\n",
              " 'anyone': 273,\n",
              " 'upon': 274,\n",
              " 'earth': 275,\n",
              " 'still': 276,\n",
              " 'children': 277,\n",
              " 'slippery': 278,\n",
              " 'rocks': 279,\n",
              " 'beside': 280,\n",
              " 'waterfall': 281,\n",
              " 'seek': 282,\n",
              " 'treasure': 283,\n",
              " 'jewelled': 284,\n",
              " 'skies': 285,\n",
              " 'saved': 286,\n",
              " 'going': 287,\n",
              " 'back': 288,\n",
              " 'simple': 289,\n",
              " 'loss': 290,\n",
              " 'while': 291,\n",
              " 'rapid': 292,\n",
              " 'ghastly': 293,\n",
              " 'river': 294,\n",
              " 'try': 295,\n",
              " 'something': 296,\n",
              " 'noise': 297,\n",
              " 'bowers': 298,\n",
              " 'whereat': 299,\n",
              " 'dreams': 300,\n",
              " 'ceasing': 301,\n",
              " 'hymns': 302,\n",
              " 'attend': 303,\n",
              " 'spell': 304,\n",
              " 'within': 305,\n",
              " 'dim': 306,\n",
              " 'west': 307,\n",
              " 'particular': 308,\n",
              " 'oclock': 309,\n",
              " 'youre': 310,\n",
              " 'use': 311,\n",
              " 'just': 312,\n",
              " 'hear': 313,\n",
              " 'happy': 314,\n",
              " 'flowers': 315,\n",
              " 'repining': 316,\n",
              " 'trees': 317,\n",
              " 'fingerpieces': 318,\n",
              " 'slid': 319,\n",
              " 'directions': 320,\n",
              " 'often': 321,\n",
              " 'ive': 322,\n",
              " 'seen': 323,\n",
              " 'transfixed': 324,\n",
              " 'mountain': 325,\n",
              " 'slopes': 326,\n",
              " 'almost': 327,\n",
              " 'erect': 328,\n",
              " 'thrill': 329,\n",
              " 'single': 330,\n",
              " 'kiss': 331,\n",
              " 'mean': 332,\n",
              " 'shes': 333,\n",
              " 'married': 334,\n",
              " 'someone': 335,\n",
              " 'else': 336,\n",
              " 'people': 337,\n",
              " 'keep': 338,\n",
              " 'ah': 339,\n",
              " 'safely': 340,\n",
              " 'may': 341,\n",
              " 'trust': 342,\n",
              " 'gleaming': 343,\n",
              " 'friends': 344,\n",
              " 'home': 345,\n",
              " 'ask': 346,\n",
              " 'wonderful': 347,\n",
              " 'danger': 348,\n",
              " 'friend': 349,\n",
              " 'two': 350,\n",
              " 'own': 351,\n",
              " 'farm': 352,\n",
              " 'pallor': 353,\n",
              " 'strangely': 354,\n",
              " 'mistrust': 355,\n",
              " 'voices': 356,\n",
              " 'surpassing': 357,\n",
              " 'beauty': 358,\n",
              " 'will': 359,\n",
              " 'half': 360,\n",
              " 'believe': 361,\n",
              " 'wild': 362,\n",
              " 'fraught': 363,\n",
              " 'follow': 364,\n",
              " 'lead': 365,\n",
              " 'say': 366,\n",
              " 'isnt': 367,\n",
              " 'hyacinthine': 368,\n",
              " 'isle': 369,\n",
              " 'purple': 370,\n",
              " 'zante': 371,\n",
              " 'stranger': 372,\n",
              " 'cousins': 373,\n",
              " 'family': 374,\n",
              " 'tree': 375,\n",
              " 'though': 376,\n",
              " 'repeatedly': 377,\n",
              " 'he': 378,\n",
              " 'strove': 379,\n",
              " 'looked': 380,\n",
              " 'lightning': 381,\n",
              " 'scribble': 382,\n",
              " 'live': 383,\n",
              " 'together': 384,\n",
              " 'pull': 385,\n",
              " 'apart': 386,\n",
              " 'having': 387,\n",
              " 'noted': 388,\n",
              " 'witch': 389,\n",
              " 'nowhere': 390,\n",
              " 'transforming': 391,\n",
              " 'thy': 392,\n",
              " 'charms': 393,\n",
              " 'shall': 394,\n",
              " 'please': 395,\n",
              " 'coming': 396,\n",
              " 'enough': 397,\n",
              " 'pens': 398,\n",
              " 'thrills': 399,\n",
              " 'hands': 400,\n",
              " 'men': 401,\n",
              " 'breath': 402,\n",
              " 'air': 403,\n",
              " 'cold': 404,\n",
              " 'sparkling': 405,\n",
              " 'evermore': 406,\n",
              " 'scarce': 407,\n",
              " 'prize': 408,\n",
              " 'most': 409,\n",
              " 'been': 410,\n",
              " 'one': 411,\n",
              " 'acquainted': 412,\n",
              " 'arthur': 413,\n",
              " 'amys': 414,\n",
              " 'once': 415,\n",
              " 'gentlest': 416,\n",
              " 'gentle': 417,\n",
              " 'names': 418,\n",
              " 'dost': 419,\n",
              " 'take': 420,\n",
              " 'where': 421,\n",
              " 'john': 422,\n",
              " 'thinks': 423,\n",
              " 'dark': 424,\n",
              " 'doubt': 425,\n",
              " 'id': 426,\n",
              " 'end': 427,\n",
              " 'holding': 428,\n",
              " 'none': 429,\n",
              " 'nothings': 430,\n",
              " 'pays': 431,\n",
              " 'mother': 432,\n",
              " 'lane': 433,\n",
              " 'yet': 434,\n",
              " 'might': 435,\n",
              " 'round': 436,\n",
              " 'about': 437,\n",
              " 'his': 438,\n",
              " 'glory': 439,\n",
              " 'salt': 440,\n",
              " 'wherewith': 441,\n",
              " 'theyre': 442,\n",
              " 'salted': 443,\n",
              " 'some': 444,\n",
              " 'extravagance': 445,\n",
              " 'young': 446,\n",
              " 'love': 447,\n",
              " 'mans': 448,\n",
              " 'father': 449,\n",
              " 'killed': 450,\n",
              " 'brought': 451,\n",
              " 'dread': 452,\n",
              " 'burden': 453,\n",
              " 'stroked': 454,\n",
              " 'hornyhanded': 455,\n",
              " 'kindness': 456,\n",
              " 'plowed': 457,\n",
              " 'ground': 458,\n",
              " 'digger': 459,\n",
              " 'scurf': 460,\n",
              " 'plants': 461,\n",
              " 'weary': 462,\n",
              " 'overheated': 463,\n",
              " 'became': 464,\n",
              " 'man—': 465,\n",
              " 'new': 466,\n",
              " 'cottage': 467,\n",
              " 'ancient': 468,\n",
              " 'spot': 469,\n",
              " 'cypress': 470,\n",
              " 'psyche': 471,\n",
              " 'soul': 472,\n",
              " 'could': 473,\n",
              " 'toffile': 474,\n",
              " 'spoke': 475,\n",
              " 'clock': 476,\n",
              " 'meaning': 477,\n",
              " 'north': 478,\n",
              " 'pole—': 479,\n",
              " 'woods': 480,\n",
              " 'frozen': 481,\n",
              " 'lake': 482,\n",
              " 'folk': 483,\n",
              " 'held': 484,\n",
              " 'hope': 485,\n",
              " 'each': 486,\n",
              " 'other': 487,\n",
              " 'headboard': 488,\n",
              " 'wants': 489,\n",
              " 'off': 490,\n",
              " 'house': 491,\n",
              " 'sos': 492,\n",
              " 'moon': 493,\n",
              " 'upper': 494,\n",
              " 'shelf': 495,\n",
              " 'tin': 496,\n",
              " 'box': 497,\n",
              " 'thats': 498,\n",
              " 'need': 499,\n",
              " 'endless': 500,\n",
              " 'talktalk': 501,\n",
              " 'street': 502,\n",
              " 'idled': 503,\n",
              " 'im': 504,\n",
              " 'what': 505,\n",
              " 'demon': 506,\n",
              " 'tempted': 507,\n",
              " 'grave': 508,\n",
              " 'grown': 509,\n",
              " 'unfortunately': 510,\n",
              " 'kind': 511,\n",
              " 'cant': 512,\n",
              " 'track': 513,\n",
              " 'peoples': 514,\n",
              " 'daughters': 515,\n",
              " 'anything': 516,\n",
              " 'glimpse': 517,\n",
              " 'curtain': 518,\n",
              " 'laces': 519,\n",
              " 'havent': 520,\n",
              " 'name': 521,\n",
              " 'past': 522,\n",
              " 'strangeness': 523,\n",
              " 'joy': 524,\n",
              " 'breathing': 525,\n",
              " 'isles': 526,\n",
              " 'blest': 527,\n",
              " 'gives': 528,\n",
              " 'harness': 529,\n",
              " 'shake': 530,\n",
              " 'crowd': 531,\n",
              " 'around': 532,\n",
              " 'path': 533,\n",
              " 'little': 534,\n",
              " 'horse': 535,\n",
              " 'queer': 536,\n",
              " 'old': 537,\n",
              " 'captains': 538,\n",
              " 'fate': 539,\n",
              " 'tangle': 540,\n",
              " 'withered': 541,\n",
              " 'weeds': 542,\n",
              " 'help': 543,\n",
              " 'isola': 544,\n",
              " 'doro': 545,\n",
              " 'fior': 546,\n",
              " 'di': 547,\n",
              " 'levante': 548,\n",
              " 'summer': 549,\n",
              " 'dream': 550,\n",
              " 'beneath': 551,\n",
              " 'tamarind': 552,\n",
              " 'perish': 553,\n",
              " 'twice': 554,\n",
              " 'natures': 555,\n",
              " 'first': 556,\n",
              " 'green': 557,\n",
              " 'gold': 558,\n",
              " 'youve': 559,\n",
              " 'stood': 560,\n",
              " 'trade': 561,\n",
              " 'mark': 562,\n",
              " 'headed': 563,\n",
              " 'for—': 564,\n",
              " 'grace': 565,\n",
              " 'did': 566,\n",
              " 'guide': 567,\n",
              " 'thine': 568,\n",
              " 'thee': 569,\n",
              " 'pit': 570,\n",
              " 'starks': 571,\n",
              " 'digged': 572,\n",
              " 'left': 573,\n",
              " 'hopes': 574,\n",
              " 'wouldnt': 575,\n",
              " 'hurt': 576,\n",
              " 'hen': 577,\n",
              " 'ought': 578,\n",
              " 'real': 579,\n",
              " 'trouble': 580,\n",
              " 'satisfy': 581,\n",
              " 'doesnt': 582,\n",
              " 'four': 583,\n",
              " 'cards': 584,\n",
              " 'yours': 585,\n",
              " 'three': 586,\n",
              " 'mine': 587,\n",
              " 'branch': 588,\n",
              " 'wampum': 589,\n",
              " 'call': 590,\n",
              " 'mind': 591,\n",
              " 'complain': 592,\n",
              " 'sybilic': 593,\n",
              " 'splendor': 594,\n",
              " 'beaming': 595,\n",
              " 'come': 596,\n",
              " 'everything': 597,\n",
              " 'saw': 598,\n",
              " 'window': 599,\n",
              " 'black': 600,\n",
              " 'wanderers': 601,\n",
              " 'valley': 602,\n",
              " 'early': 603,\n",
              " 'mormons': 604,\n",
              " 'settlement': 605,\n",
              " 'streams': 606,\n",
              " 'aroused': 607,\n",
              " 'tote': 608,\n",
              " 'road': 609,\n",
              " 'clearing': 610,\n",
              " 'lived': 611,\n",
              " 'picking': 612,\n",
              " 'faded': 613,\n",
              " 'blue': 614,\n",
              " 'cross': 615,\n",
              " 'lots': 616,\n",
              " 'walls': 617,\n",
              " 'crooking': 618,\n",
              " 'many': 619,\n",
              " 'trillium': 620,\n",
              " 'drawn': 621,\n",
              " 'passport': 622,\n",
              " 'dwell': 623,\n",
              " 'fountains': 624,\n",
              " 'overflow': 625,\n",
              " 'groan': 626,\n",
              " 'mount': 627,\n",
              " 'yaanek': 628,\n",
              " 'redlitten': 629,\n",
              " 'windows': 630,\n",
              " 'misty': 631,\n",
              " 'mid': 632,\n",
              " 'region': 633,\n",
              " 'weir': 634,\n",
              " 'whose': 635,\n",
              " 'entablatures': 636,\n",
              " 'intertwine': 637,\n",
              " 'bones': 638,\n",
              " 'cellar': 639,\n",
              " 'life': 640,\n",
              " 'common': 641,\n",
              " 'lie': 642,\n",
              " 'hangs': 643,\n",
              " 'chains': 644,\n",
              " 'pearl': 645,\n",
              " 'hermon': 646,\n",
              " 'hill': 647,\n",
              " 'eat': 648,\n",
              " 'barrel': 649,\n",
              " 'brown': 650,\n",
              " 'ever': 651,\n",
              " 'gave': 652,\n",
              " 'lovely': 653,\n",
              " 'deep': 654,\n",
              " 'johns': 655,\n",
              " 'verdant': 656,\n",
              " 'thoughts': 657,\n",
              " 'duty': 658,\n",
              " 'office': 659,\n",
              " 'illumine': 660,\n",
              " 'enkindle': 661,\n",
              " 'oldbelievers': 662,\n",
              " 'talking': 663,\n",
              " 'inscription': 664,\n",
              " 'garden': 665,\n",
              " 'wall': 666,\n",
              " 'further': 667,\n",
              " 'unearthly': 668,\n",
              " 'height': 669,\n",
              " 'tried': 670,\n",
              " 'dropped': 671,\n",
              " 'feet': 672,\n",
              " 'dignity': 673,\n",
              " 'mien': 674,\n",
              " 'even': 675,\n",
              " 'lonely': 676,\n",
              " 'rose': 677,\n",
              " 'ashen': 678,\n",
              " 'sober': 679,\n",
              " 'nor': 680,\n",
              " 'ghoulhaunted': 681,\n",
              " 'woodland': 682,\n",
              " 'sat': 683,\n",
              " 'listening': 684,\n",
              " 'till': 685,\n",
              " 'judgment': 686,\n",
              " 'hall': 687,\n",
              " 'finished': 688,\n",
              " 'bedroom': 689,\n",
              " 'tears': 690,\n",
              " 'dry': 691,\n",
              " 'thered': 692,\n",
              " 'boston': 693,\n",
              " 'shudder': 694,\n",
              " 'notes': 695,\n",
              " 'ocean': 696,\n",
              " 'throbbing': 697,\n",
              " 'free': 698,\n",
              " 'greenest': 699,\n",
              " 'valleys': 700,\n",
              " 'kick': 701,\n",
              " 'legs': 702,\n",
              " 'army': 703,\n",
              " 'mule': 704,\n",
              " 'fervor': 705,\n",
              " 'power': 706,\n",
              " 'came': 707,\n",
              " 'coasting': 708,\n",
              " 'child': 709,\n",
              " 'future': 710,\n",
              " 'radiant': 711,\n",
              " 'shine': 712,\n",
              " 'wrought': 713,\n",
              " 'storm': 714,\n",
              " 'bring': 715,\n",
              " 'chalkpile': 716,\n",
              " 'bright': 717,\n",
              " 'idea': 718,\n",
              " 'deareye': 719,\n",
              " 'quick': 720,\n",
              " 'slammed': 721,\n",
              " 'knob': 722,\n",
              " 'strength': 723,\n",
              " 'subdued': 724,\n",
              " 'return': 725,\n",
              " 'lovelight': 726,\n",
              " 'conquered': 727,\n",
              " 'scruples': 728,\n",
              " 'gloom': 729,\n",
              " 'riches': 730,\n",
              " 'therein': 731,\n",
              " 'knows': 732,\n",
              " 'pale': 733,\n",
              " 'groping': 734,\n",
              " 'after': 735,\n",
              " 'jam': 736,\n",
              " 'melt': 737,\n",
              " 'snow': 738,\n",
              " 'start': 739,\n",
              " 'dormant': 740,\n",
              " 'turned': 741,\n",
              " 'repented': 742,\n",
              " 'turrets': 743,\n",
              " 'silently': 744,\n",
              " 'legended': 745,\n",
              " 'tomb': 746,\n",
              " 'should': 747,\n",
              " 'matter': 748,\n",
              " 'such': 749,\n",
              " 'starlight': 750,\n",
              " 'pall': 751,\n",
              " 'stole': 752,\n",
              " 'goblet': 753,\n",
              " 'childrens': 754,\n",
              " 'playhouse': 755,\n",
              " 'saint': 756,\n",
              " 'says': 757,\n",
              " 'mustnt': 758,\n",
              " 'hast': 759,\n",
              " 'thou': 760,\n",
              " 'torn': 761,\n",
              " 'naiad': 762,\n",
              " 'flood': 763,\n",
              " 'failed': 764,\n",
              " 'find': 765,\n",
              " 'force': 766,\n",
              " 'strait': 767,\n",
              " 'sleeping': 768,\n",
              " 'warm': 769,\n",
              " 'standing': 770,\n",
              " 'yes': 771,\n",
              " 'tis': 772,\n",
              " 'vault': 773,\n",
              " 'ulalume': 774,\n",
              " 'wearing': 775,\n",
              " 'feeling': 776,\n",
              " 'crown': 777,\n",
              " 'wings': 778,\n",
              " 'until': 779,\n",
              " 'trailed': 780,\n",
              " 'dust': 781,\n",
              " 'every': 782,\n",
              " 'fold': 783,\n",
              " 'across': 784,\n",
              " 'among': 785,\n",
              " 'raspberries': 786,\n",
              " 'hew': 787,\n",
              " 'shape': 788,\n",
              " 'domes': 789,\n",
              " 'spires': 790,\n",
              " 'kingly': 791,\n",
              " 'halls': 792,\n",
              " 'banked': 793,\n",
              " 'sawdust': 794,\n",
              " 'ten': 795,\n",
              " 'winter': 796,\n",
              " 'eve': 797,\n",
              " 'quickening': 798,\n",
              " 'accept': 799,\n",
              " 'substitute': 800,\n",
              " 'empty': 801,\n",
              " 'another': 802,\n",
              " 'gone': 803,\n",
              " 'heard': 804,\n",
              " 'estelles': 805,\n",
              " 'run': 806,\n",
              " 'hearts': 807,\n",
              " 'passion': 808,\n",
              " 'look': 809,\n",
              " 'raspberry': 810,\n",
              " 'vines': 811,\n",
              " 'rather': 812,\n",
              " 'tip': 813,\n",
              " 'table': 814,\n",
              " 'rode': 815,\n",
              " 'facts': 816,\n",
              " 'want': 817,\n",
              " 'go': 818,\n",
              " 'boys': 819,\n",
              " 'bad': 820,\n",
              " 'hunters': 821,\n",
              " 'known': 822,\n",
              " 'looking': 823,\n",
              " 'orchid': 824,\n",
              " 'calypso': 825,\n",
              " 'well—i—be—': 826,\n",
              " 'trying': 827,\n",
              " 'theyve': 828,\n",
              " 'settled': 829,\n",
              " 'cellarstairs': 830,\n",
              " 'youll': 831,\n",
              " 'expecting': 832,\n",
              " 'pity': 833,\n",
              " 'estelle': 834,\n",
              " 'money': 835,\n",
              " 'goes': 836,\n",
              " 'fast': 837,\n",
              " 'suspect': 838,\n",
              " 'place': 839,\n",
              " 'cutting': 840,\n",
              " 'son': 841,\n",
              " 'softmurmured': 842,\n",
              " 'words': 843,\n",
              " 'open': 844,\n",
              " 'outdoors': 845,\n",
              " 'mormon': 846,\n",
              " 'swimming': 847,\n",
              " 'wonder': 848,\n",
              " 'sold': 849,\n",
              " 'champions': 850,\n",
              " 'devoted': 851,\n",
              " 'brave': 852,\n",
              " 'carry': 853,\n",
              " 'again': 854,\n",
              " 'uplifting': 855,\n",
              " 'finger': 856,\n",
              " 'hard': 857,\n",
              " 'amid': 858,\n",
              " 'moans': 859,\n",
              " 'guess': 860,\n",
              " 'youd': 861,\n",
              " 'fountain': 862,\n",
              " 'root': 863,\n",
              " 'richer': 864,\n",
              " 'wilder': 865,\n",
              " 'diviner': 866,\n",
              " 'visions': 867,\n",
              " 'tremulous': 868,\n",
              " 'hourly': 869,\n",
              " 'above': 870,\n",
              " 'comes': 871,\n",
              " 'softly': 872,\n",
              " 'rattling': 873,\n",
              " 'vow': 874,\n",
              " 'near': 875,\n",
              " 'diana': 876,\n",
              " 'car': 877,\n",
              " 'burning': 878,\n",
              " 'measures': 879,\n",
              " 'suit': 880,\n",
              " 'world': 881,\n",
              " 'fathom': 882,\n",
              " 'witherd': 883,\n",
              " 'technical': 884,\n",
              " 'forgive': 885,\n",
              " 'featherhammer': 886,\n",
              " 'double': 887,\n",
              " 'hours': 888,\n",
              " 'daylight': 889,\n",
              " 'gather': 890,\n",
              " 'atmosphere': 891,\n",
              " 'shatter': 892,\n",
              " 'inward': 893,\n",
              " 'unswept': 894,\n",
              " 'floors': 895,\n",
              " 'sink': 896,\n",
              " 'under': 897,\n",
              " 'being': 898,\n",
              " 'wife': 899,\n",
              " 'theyll': 900,\n",
              " 'whole': 901,\n",
              " 'thing': 902,\n",
              " 'granny': 903,\n",
              " 'speaking': 904,\n",
              " 'dunnow': 905,\n",
              " 'into': 906,\n",
              " 'hole': 907,\n",
              " 'remembered': 908,\n",
              " 'toward': 909,\n",
              " 'noon': 910,\n",
              " 'sunshine': 911,\n",
              " 'ours': 912,\n",
              " 'sometimes': 913,\n",
              " 'arms': 914,\n",
              " 'outspread': 915,\n",
              " 'speel': 916,\n",
              " 'lizard': 917,\n",
              " 'broken': 918,\n",
              " 'blow': 919,\n",
              " 'make': 920,\n",
              " 'stifling': 921,\n",
              " 'hot': 922,\n",
              " 'odor': 923,\n",
              " 'sap': 924,\n",
              " 'ice': 925,\n",
              " 'clothes': 926,\n",
              " 'luminous': 927,\n",
              " 'undo': 928,\n",
              " 'hed': 929,\n",
              " 'seriously': 930,\n",
              " 'bearings': 931,\n",
              " 'shelter': 932,\n",
              " 'mockery': 933,\n",
              " 'boast': 934,\n",
              " 'worth': 935,\n",
              " 'lifes': 936,\n",
              " 'wake': 937,\n",
              " 'sport': 938,\n",
              " 'memories': 939,\n",
              " 'treacherous': 940,\n",
              " 'sere': 941,\n",
              " 'luminary': 942,\n",
              " 'against': 943,\n",
              " 'lifts': 944,\n",
              " 'gaunt': 945,\n",
              " 'luxuriating': 946,\n",
              " 'beast': 947,\n",
              " 'discordant': 948,\n",
              " 'melody': 949,\n",
              " 'waiting': 950,\n",
              " 'chill': 951,\n",
              " 'effect': 952,\n",
              " 'buds': 953,\n",
              " 'leaf': 954,\n",
              " 'bloom': 955,\n",
              " 'summoning': 956,\n",
              " 'button': 957,\n",
              " 'lets': 958,\n",
              " 'trap': 959,\n",
              " 'sleep': 960,\n",
              " 'bed': 961,\n",
              " 'wander': 962,\n",
              " 'beaten': 963,\n",
              " 'ways': 964,\n",
              " 'step': 965,\n",
              " 'trodden': 966,\n",
              " 'slowly': 967,\n",
              " 'closing': 968,\n",
              " 'dent': 969,\n",
              " 'dough': 970,\n",
              " 'distinct': 971,\n",
              " 'duplicate': 972,\n",
              " 'horn': 973,\n",
              " 'cedar': 974,\n",
              " 'waterside': 975,\n",
              " 'sinners': 976,\n",
              " 'sacrifice': 977,\n",
              " 'hitched': 978,\n",
              " 'unblanketed': 979,\n",
              " 'legitimately': 980,\n",
              " 'demand': 981,\n",
              " 'ultimate': 982,\n",
              " 'climes': 983,\n",
              " 'hasten': 984,\n",
              " 'linger': 985,\n",
              " 'crosslegged': 986,\n",
              " 'passionate': 987,\n",
              " 'fit': 988,\n",
              " 'haunt': 989,\n",
              " 'side': 990,\n",
              " 'panther': 991,\n",
              " 'cupboard': 992,\n",
              " 'introduce': 993,\n",
              " 'trance': 994,\n",
              " 'withdrawing': 995,\n",
              " 'likeness': 996,\n",
              " 'surprise': 997,\n",
              " 'thrilly': 998,\n",
              " 'tourist': 999,\n",
              " ...}"
            ]
          },
          "metadata": {},
          "execution_count": 65
        }
      ]
    },
    {
      "cell_type": "code",
      "source": [
        "len(word2idx)"
      ],
      "metadata": {
        "colab": {
          "base_uri": "https://localhost:8080/"
        },
        "id": "7OyQZGdVrAF5",
        "outputId": "cc4086b4-3239-4ada-9306-a07838502f3b"
      },
      "execution_count": 66,
      "outputs": [
        {
          "output_type": "execute_result",
          "data": {
            "text/plain": [
              "2502"
            ]
          },
          "metadata": {},
          "execution_count": 66
        }
      ]
    },
    {
      "cell_type": "code",
      "source": [
        "# convert data into integer format\n",
        "train_text_int = []\n",
        "test_text_int = []\n",
        "\n",
        "for text in train_text:\n",
        "  tokens = text.split()\n",
        "  line_as_int = [word2idx[token] for token in tokens]\n",
        "  train_text_int.append(line_as_int)\n",
        "\n",
        "for text in test_text:\n",
        "  tokens = text.split()\n",
        "  line_as_int = [word2idx.get(token, 0) for token in tokens]\n",
        "  test_text_int.append(line_as_int)"
      ],
      "metadata": {
        "id": "wZbrETFnrTTd"
      },
      "execution_count": 67,
      "outputs": []
    },
    {
      "cell_type": "code",
      "source": [
        "train_text_int[100:105]"
      ],
      "metadata": {
        "colab": {
          "base_uri": "https://localhost:8080/"
        },
        "id": "qbfXP6xGwJFH",
        "outputId": "1f25182e-3f41-4a17-d10a-3e898e502207"
      },
      "execution_count": 68,
      "outputs": [
        {
          "output_type": "execute_result",
          "data": {
            "text/plain": [
              "[[391, 18, 392, 393, 394, 395, 8, 9],\n",
              " [36, 45, 312, 396, 33, 250, 397],\n",
              " [152, 35, 127, 143, 378, 398, 195, 399, 33, 41],\n",
              " [48, 400, 72, 401],\n",
              " [48, 402, 72, 403, 194, 237, 72, 404]]"
            ]
          },
          "metadata": {},
          "execution_count": 68
        }
      ]
    },
    {
      "cell_type": "code",
      "source": [
        "# idit A and pi matrices - for both classes\n",
        "V = len(word2idx)\n",
        "\n",
        "A0 = np.ones((V, V))\n",
        "pi0 = np.ones((V))\n",
        "\n",
        "A1 = np.ones((V, V))\n",
        "pi1 = np.ones((V))"
      ],
      "metadata": {
        "id": "h4T5x3Muy0Cy"
      },
      "execution_count": 69,
      "outputs": []
    },
    {
      "cell_type": "code",
      "source": [
        "# compute counts for A and Pi\n",
        "def compute_counts(text_as_int, A, pi):\n",
        "  for tokens in text_as_int:\n",
        "    last_idx = None\n",
        "    for idx in tokens:\n",
        "      if last_idx is None:\n",
        "        # it's the first word in a sentence\n",
        "        pi[idx] += 1\n",
        "      else:\n",
        "        # the last word exists, so count a transition\n",
        "        A[last_idx, idx] += 1\n",
        "\n",
        "      # update last idx\n",
        "      last_idx = idx\n",
        "\n",
        "\n",
        "compute_counts([t for t, y in zip(train_text_int, Ytrain) if y == 0], A0, pi0)\n",
        "compute_counts([t for t, y in zip(train_text_int, Ytrain) if y == 1], A1, pi1)"
      ],
      "metadata": {
        "id": "lmk361pM45Dg"
      },
      "execution_count": 70,
      "outputs": []
    },
    {
      "cell_type": "code",
      "source": [
        "# normalize A and pi so they are valid probability matrices\n",
        "# convince yourself that this equivalent to the formulas shown before\n",
        "A0 /= A0.sum(axis=1, keepdims=True)\n",
        "pi0 /= pi0.sum()\n",
        "\n",
        "A1 /= A1.sum(axis=1, keepdims=True)\n",
        "pi1 /= pi1.sum()\n"
      ],
      "metadata": {
        "id": "_7WavP939KSx"
      },
      "execution_count": 71,
      "outputs": []
    },
    {
      "cell_type": "code",
      "source": [
        "# log A and pi sinc we dont need the actual probs\n",
        "logA0 = np.log(A0)\n",
        "logpi0 = np.log(pi0)\n",
        "\n",
        "logA1 = np.log(A1)\n",
        "logpi1 = np.log(pi1)"
      ],
      "metadata": {
        "id": "2-razDVe_rAs"
      },
      "execution_count": 72,
      "outputs": []
    },
    {
      "cell_type": "code",
      "source": [
        "# comput priors\n",
        "count0 = sum(y == 0 for y in Ytrain)\n",
        "count1 = sum(y == 1 for y in Ytrain)\n",
        "total = len(Ytrain)\n",
        "p0 = count0 / total\n",
        "p1 = count1 / total\n",
        "logp0 = np.log(p0)\n",
        "logp1 = np.log(p1)\n",
        "p0, p1"
      ],
      "metadata": {
        "colab": {
          "base_uri": "https://localhost:8080/"
        },
        "id": "s8HAf_aXBCdH",
        "outputId": "6c29e894-24ee-45fa-8d29-1a60ca3117b0"
      },
      "execution_count": 73,
      "outputs": [
        {
          "output_type": "execute_result",
          "data": {
            "text/plain": [
              "(0.33436532507739936, 0.6656346749226006)"
            ]
          },
          "metadata": {},
          "execution_count": 73
        }
      ]
    },
    {
      "cell_type": "code",
      "source": [
        "from numpy.core.function_base import logspace\n",
        "# build a classifer\n",
        "class Classifier:\n",
        "  def __init__(self, logAs, logpis, logpriors):\n",
        "    self.logAs = logAs\n",
        "    self.logpis = logpis\n",
        "    self.logpriors = logpriors\n",
        "    self.K = len(logpriors) # number of classes\n",
        "\n",
        "  def _compute_log_likelihood(self, input_, class_):\n",
        "    logA = self.logAs[class_]\n",
        "    logpi = self.logpis[class_]\n",
        "\n",
        "    last_idx = None\n",
        "    logprob = 0\n",
        "    for idx in input_:\n",
        "      if last_idx is None:\n",
        "        # its the first token\n",
        "        logprob +=logpi[idx]\n",
        "      else:\n",
        "        logprob +=logA[last_idx, idx]\n",
        "\n",
        "      # updata last_idx\n",
        "      last_idx = idx\n",
        "\n",
        "    return logprob\n",
        "\n",
        "  def predict(self, inputs):\n",
        "    predictions = np.zeros(len(inputs))\n",
        "    for i, input_ in enumerate(inputs):\n",
        "      posteriors = [self._compute_log_likelihood(input_, c) + self.logpriors[c] for c in range(self.K)]\n",
        "      pred = np.argmax(posteriors)\n",
        "      predictions[i] = pred\n",
        "    return predictions"
      ],
      "metadata": {
        "id": "NIGSEY2RCJEo"
      },
      "execution_count": 74,
      "outputs": []
    },
    {
      "cell_type": "code",
      "source": [
        "# each array must be in order since classes are assumed to index thes ilsts\n",
        "clf = Classifier([logA0, logA1], [logpi0, logpi1], [logp0, logp1])"
      ],
      "metadata": {
        "id": "mNOAARqol_Jz"
      },
      "execution_count": 75,
      "outputs": []
    },
    {
      "cell_type": "code",
      "source": [
        "Ptrain = clf.predict(train_text_int)\n",
        "print(f\"Train acc: {np.mean(Ptrain == Ytrain)}\")"
      ],
      "metadata": {
        "colab": {
          "base_uri": "https://localhost:8080/"
        },
        "id": "UoYV-7LrpTQi",
        "outputId": "91910a4e-4e27-48f5-e8aa-2da366bc63d2"
      },
      "execution_count": 76,
      "outputs": [
        {
          "output_type": "stream",
          "name": "stdout",
          "text": [
            "Train acc: 0.9950464396284829\n"
          ]
        }
      ]
    },
    {
      "cell_type": "code",
      "source": [
        "Ptest = clf.predict(test_text_int)\n",
        "print(f\"Train acc: {np.mean(Ptest == Ytest)}\")"
      ],
      "metadata": {
        "id": "sgsOFwzPtRyW",
        "colab": {
          "base_uri": "https://localhost:8080/"
        },
        "outputId": "604d14a5-23d9-4da4-a307-ec99179f7025"
      },
      "execution_count": 77,
      "outputs": [
        {
          "output_type": "stream",
          "name": "stdout",
          "text": [
            "Train acc: 0.8218923933209648\n"
          ]
        }
      ]
    },
    {
      "cell_type": "code",
      "source": [
        "from sklearn.metrics import confusion_matrix, f1_score"
      ],
      "metadata": {
        "id": "KSGfCUE3ug12"
      },
      "execution_count": 78,
      "outputs": []
    },
    {
      "cell_type": "code",
      "source": [
        "cm =  confusion_matrix(Ytrain, Ptrain)\n",
        "cm"
      ],
      "metadata": {
        "id": "sr3aNk7iwYfA",
        "outputId": "e9733d55-d4e5-41f9-f4e9-d060c6ed5ddb",
        "colab": {
          "base_uri": "https://localhost:8080/"
        }
      },
      "execution_count": 79,
      "outputs": [
        {
          "output_type": "execute_result",
          "data": {
            "text/plain": [
              "array([[ 532,    8],\n",
              "       [   0, 1075]])"
            ]
          },
          "metadata": {},
          "execution_count": 79
        }
      ]
    },
    {
      "cell_type": "code",
      "source": [
        "cm_test =  confusion_matrix(Ytest, Ptest)\n",
        "cm_test"
      ],
      "metadata": {
        "id": "t1OF8K5Pwyqw",
        "outputId": "73511a99-768c-46cc-e81e-db86ba5e4697",
        "colab": {
          "base_uri": "https://localhost:8080/"
        }
      },
      "execution_count": 80,
      "outputs": [
        {
          "output_type": "execute_result",
          "data": {
            "text/plain": [
              "array([[ 92,  86],\n",
              "       [ 10, 351]])"
            ]
          },
          "metadata": {},
          "execution_count": 80
        }
      ]
    },
    {
      "cell_type": "code",
      "source": [
        "f1_score(Ytrain, Ptrain)"
      ],
      "metadata": {
        "id": "vHHpxb1ZxD3T",
        "outputId": "37732a1a-bdd5-4e0a-b662-a11e8d7df71c",
        "colab": {
          "base_uri": "https://localhost:8080/"
        }
      },
      "execution_count": 81,
      "outputs": [
        {
          "output_type": "execute_result",
          "data": {
            "text/plain": [
              "0.9962928637627432"
            ]
          },
          "metadata": {},
          "execution_count": 81
        }
      ]
    },
    {
      "cell_type": "code",
      "source": [
        "f1_score(Ytest, Ptest)"
      ],
      "metadata": {
        "id": "voCKYjOZxNI3",
        "outputId": "0bba3a57-4119-4078-b4a8-72633cb17ae3",
        "colab": {
          "base_uri": "https://localhost:8080/"
        }
      },
      "execution_count": 82,
      "outputs": [
        {
          "output_type": "execute_result",
          "data": {
            "text/plain": [
              "0.8796992481203008"
            ]
          },
          "metadata": {},
          "execution_count": 82
        }
      ]
    },
    {
      "cell_type": "code",
      "source": [],
      "metadata": {
        "id": "_f1uFN1U8VIh"
      },
      "execution_count": null,
      "outputs": []
    },
    {
      "cell_type": "code",
      "source": [],
      "metadata": {
        "id": "kmDP91-ixUOb"
      },
      "execution_count": 33,
      "outputs": []
    }
  ]
}